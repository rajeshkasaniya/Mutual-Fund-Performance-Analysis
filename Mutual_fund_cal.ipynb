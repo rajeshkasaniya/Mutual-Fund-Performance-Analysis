{
 "cells": [
  {
   "cell_type": "code",
   "execution_count": 1,
   "id": "d3d73f96",
   "metadata": {},
   "outputs": [],
   "source": [
    "#load libraries\n",
    "\n",
    "import pandas as pd\n",
    "import numpy as np\n",
    "import glob\n",
    "from pathlib import Path"
   ]
  },
  {
   "cell_type": "code",
   "execution_count": 2,
   "id": "026874a2",
   "metadata": {},
   "outputs": [],
   "source": [
    "## Cleaning the data of all mutual fund filling the non float cell by NAN\n",
    "## droping the row if the mutual fund scheme is closed\n",
    "## Adding mean, variance, std and sharp ratio\n",
    "\n",
    "\n",
    "## path of all mutual fund's csv folder\n",
    "path = r\"C:\\Users\\Admin\\Documents\\Projects\\mf\\mf\"\n",
    "\n",
    "\n",
    "for file in glob.glob(path+\"\\\\*.csv\"):\n",
    "    name = Path(file).name                                                          ## Name of Mutual Fund\n",
    "    df = pd.read_csv(file, index_col=0)\n",
    "    \n",
    "    for rowIndex, row in df.iterrows():                                             ## iterate over rows\n",
    "        for columnIndex, value in row.items():\n",
    "            try:\n",
    "                df.loc[rowIndex,columnIndex]=float(df.loc[rowIndex,columnIndex])    ## str to float\n",
    "            except:\n",
    "                df.loc[rowIndex,columnIndex]=np.nan                                 ## replace non float value by Nan\n",
    "\n",
    "    df = df.astype(float)                                                           ## df type float\n",
    "\n",
    "    df.drop(df[df.count(axis='columns') <= 6].index, inplace = True)                ## dropping the mutualfund scheme plans which has less than 6 month data\n",
    "    \n",
    "    df.drop(df[df.iloc[:, -1].isnull()].index, inplace = True)                      ## dropping the mutualfund scheme plans which has closed\n",
    "    \n",
    "    df = round(df.interpolate(method='linear',axis=1), 3)                           ## Linearly interpolating the data for filling the empty cell \n",
    "\n",
    "    df['mean'] = round(df.mean(axis=1), 3)                                          ## adding mean column\n",
    "    df['var'] = round(df.iloc[:,:-1].var(axis=1), 3)                                ## adding var column\n",
    "    df['std'] = round(df.iloc[:,:-2].std(axis=1), 3)                                ## adding std column\n",
    "    \n",
    "    \n",
    "    df['sharpe ratio'] = round(df['mean']/df['std']*pow(12, 0.5), 3)                             ## adding sharpe ratio by neglecting the risk free rate\n",
    "\n",
    "    df.to_csv(r'C:\\Users\\Admin\\Documents\\Projects\\mf\\mf_name\\{}.csv'.format(name))     ## new csv for every mutual fund"
   ]
  },
  {
   "cell_type": "code",
   "execution_count": 3,
   "id": "ddb1c1a9",
   "metadata": {},
   "outputs": [],
   "source": [
    "## merged all csv files into 1 master csv file\n",
    "\n",
    "\n",
    "path = r\"C:\\Users\\Admin\\Documents\\Projects\\mf\\mf_name\"            ## path for csv folder \n",
    "output = pd.DataFrame()\n",
    "\n",
    "for file in glob.glob(path+\"\\\\*.csv\"):\n",
    "    cn = pd.read_csv(file)\n",
    "    output = pd.concat([output,cn])\n",
    "\n",
    "output.to_csv(r\"C:\\Users\\Admin\\Documents\\Projects\\mf\\master.csv\", index=False) ## new merged csv"
   ]
  },
  {
   "cell_type": "code",
   "execution_count": 4,
   "id": "27ac445a",
   "metadata": {
    "scrolled": true
   },
   "outputs": [],
   "source": [
    "master_df = pd.read_csv(\"master.csv\", index_col=0)"
   ]
  },
  {
   "cell_type": "code",
   "execution_count": 5,
   "id": "6f0905f3",
   "metadata": {
    "scrolled": true
   },
   "outputs": [],
   "source": [
    "for idx in master_df.index:\n",
    "    if \"Growth\" not in idx or \"Direct\" not in idx:                           ## get only one plan for every scheme\n",
    "        master_df.drop([idx], axis=0, inplace=True)"
   ]
  },
  {
   "cell_type": "code",
   "execution_count": 6,
   "id": "5433b913",
   "metadata": {},
   "outputs": [],
   "source": [
    "## different equity catogeries for mutual fund's and their keywords\n",
    "\n",
    "categories = {'Large Cap': ['Large Cap', 'Bluechip', 'Frontline'],  \n",
    "              'Mid Cap':'Mid', \n",
    "              'Small Cap':'Small', \n",
    "              'Flexi Cap':'Flexi', \n",
    "              'Value Fund':'Value', \n",
    "              'Focused Fund':'Focused', \n",
    "              'Dividend Yield Fund': 'Dividend', \n",
    "              'Retirement Fund' : 'Retirement', \n",
    "              'ELSS Fund': ['ELSS', 'Tax'],\n",
    "              'Index Fund' : 'Index'}"
   ]
  },
  {
   "cell_type": "code",
   "execution_count": 7,
   "id": "bad33562",
   "metadata": {
    "scrolled": true
   },
   "outputs": [],
   "source": [
    "for catogery, sign in categories.items():                                          ## getting key and values in dict\n",
    "    \n",
    "    new_df = pd.DataFrame()                                                        ## dataframe for every scheme\n",
    "\n",
    "    for idx in master_df.index:                                                    ## every raw in master dataframe\n",
    "        if type(sign) == list:\n",
    "            for j in range(len(sign)):\n",
    "                if sign[j] in idx:\n",
    "                    helper_df = pd.DataFrame(master_df.loc[[idx]])           \n",
    "                    new_df = pd.concat([new_df, helper_df])                        ## making new dataframe for every scheme\n",
    "        else:\n",
    "            if sign in idx:\n",
    "                helper_df = pd.DataFrame(master_df.loc[[idx]])\n",
    "                new_df = pd.concat([new_df, helper_df])\n",
    "                \n",
    "    new_df.sort_values(by=['sharpe ratio', 'mean'], inplace=True, ascending=False)  ## sorting the dataframe in descending order\n",
    "                \n",
    "    new_df.to_csv(r\"C:\\Users\\Admin\\Documents\\Projects\\mf\\mf_scheme\\{}.csv\".format(catogery)) ## making csv"
   ]
  }
 ],
 "metadata": {
  "kernelspec": {
   "display_name": "Python 3 (ipykernel)",
   "language": "python",
   "name": "python3"
  },
  "language_info": {
   "codemirror_mode": {
    "name": "ipython",
    "version": 3
   },
   "file_extension": ".py",
   "mimetype": "text/x-python",
   "name": "python",
   "nbconvert_exporter": "python",
   "pygments_lexer": "ipython3",
   "version": "3.9.12"
  }
 },
 "nbformat": 4,
 "nbformat_minor": 5
}
